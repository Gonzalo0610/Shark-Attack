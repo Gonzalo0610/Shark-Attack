{
 "cells": [
  {
   "cell_type": "code",
   "execution_count": 17,
   "metadata": {},
   "outputs": [],
   "source": [
    "import seaborn as sns\n",
    "import matplotlib.pyplot as plt\n",
    "import pandas as pd\n",
    "import numpy as np"
   ]
  },
  {
   "cell_type": "code",
   "execution_count": 16,
   "metadata": {},
   "outputs": [
    {
     "data": {
      "text/plain": [
       "<_io.TextIOWrapper name='attacks.csv' mode='r' encoding='cp1252'>"
      ]
     },
     "execution_count": 16,
     "metadata": {},
     "output_type": "execute_result"
    }
   ],
   "source": [
    "open('attacks.csv')"
   ]
  },
  {
   "cell_type": "code",
   "execution_count": 25,
   "metadata": {},
   "outputs": [
    {
     "data": {
      "text/html": [
       "<div>\n",
       "<style scoped>\n",
       "    .dataframe tbody tr th:only-of-type {\n",
       "        vertical-align: middle;\n",
       "    }\n",
       "\n",
       "    .dataframe tbody tr th {\n",
       "        vertical-align: top;\n",
       "    }\n",
       "\n",
       "    .dataframe thead th {\n",
       "        text-align: right;\n",
       "    }\n",
       "</style>\n",
       "<table border=\"1\" class=\"dataframe\">\n",
       "  <thead>\n",
       "    <tr style=\"text-align: right;\">\n",
       "      <th></th>\n",
       "      <th>Case Number</th>\n",
       "      <th>Date</th>\n",
       "      <th>Year</th>\n",
       "      <th>Type</th>\n",
       "      <th>Country</th>\n",
       "      <th>Area</th>\n",
       "      <th>Location</th>\n",
       "      <th>Activity</th>\n",
       "      <th>Name</th>\n",
       "      <th>Sex</th>\n",
       "      <th>...</th>\n",
       "      <th>Species</th>\n",
       "      <th>Investigator or Source</th>\n",
       "      <th>pdf</th>\n",
       "      <th>href formula</th>\n",
       "      <th>href</th>\n",
       "      <th>Case Number.1</th>\n",
       "      <th>Case Number.2</th>\n",
       "      <th>original order</th>\n",
       "      <th>Unnamed: 22</th>\n",
       "      <th>Unnamed: 23</th>\n",
       "    </tr>\n",
       "  </thead>\n",
       "  <tbody>\n",
       "    <tr>\n",
       "      <th>1879</th>\n",
       "      <td>2002.03.03</td>\n",
       "      <td>03-Mar-2002</td>\n",
       "      <td>2002.0</td>\n",
       "      <td>Invalid</td>\n",
       "      <td>NEW CALEDONIA</td>\n",
       "      <td>Loyalty Islands</td>\n",
       "      <td>Lifou</td>\n",
       "      <td>Spearfishing</td>\n",
       "      <td>Yves Koidrin</td>\n",
       "      <td>M</td>\n",
       "      <td>...</td>\n",
       "      <td>Shark involvement prior to death unconfired</td>\n",
       "      <td>Les Nouvelles Caledoniennes, 3/11/2002</td>\n",
       "      <td>2002.03.03-Yves-Koidrin.pdf</td>\n",
       "      <td>http://sharkattackfile.net/spreadsheets/pdf_di...</td>\n",
       "      <td>http://sharkattackfile.net/spreadsheets/pdf_di...</td>\n",
       "      <td>2002.03.03</td>\n",
       "      <td>2002.03.03</td>\n",
       "      <td>4424.0</td>\n",
       "      <td>NaN</td>\n",
       "      <td>NaN</td>\n",
       "    </tr>\n",
       "  </tbody>\n",
       "</table>\n",
       "<p>1 rows × 24 columns</p>\n",
       "</div>"
      ],
      "text/plain": [
       "     Case Number         Date    Year     Type        Country  \\\n",
       "1879  2002.03.03  03-Mar-2002  2002.0  Invalid  NEW CALEDONIA   \n",
       "\n",
       "                 Area Location      Activity          Name Sex   ...  \\\n",
       "1879  Loyalty Islands    Lifou  Spearfishing  Yves Koidrin    M  ...   \n",
       "\n",
       "                                         Species   \\\n",
       "1879  Shark involvement prior to death unconfired   \n",
       "\n",
       "                      Investigator or Source                          pdf  \\\n",
       "1879  Les Nouvelles Caledoniennes, 3/11/2002  2002.03.03-Yves-Koidrin.pdf   \n",
       "\n",
       "                                           href formula  \\\n",
       "1879  http://sharkattackfile.net/spreadsheets/pdf_di...   \n",
       "\n",
       "                                                   href Case Number.1  \\\n",
       "1879  http://sharkattackfile.net/spreadsheets/pdf_di...    2002.03.03   \n",
       "\n",
       "     Case Number.2 original order Unnamed: 22 Unnamed: 23  \n",
       "1879    2002.03.03         4424.0         NaN         NaN  \n",
       "\n",
       "[1 rows x 24 columns]"
      ]
     },
     "execution_count": 25,
     "metadata": {},
     "output_type": "execute_result"
    }
   ],
   "source": [
    "attack = pd.read_csv('attacks.csv', encoding=\"cp1252\")\n",
    "attack.sample()"
   ]
  },
  {
   "cell_type": "code",
   "execution_count": 96,
   "metadata": {},
   "outputs": [
    {
     "data": {
      "text/plain": [
       "(6302, 22)"
      ]
     },
     "execution_count": 96,
     "metadata": {},
     "output_type": "execute_result"
    }
   ],
   "source": [
    "attack.shape"
   ]
  },
  {
   "cell_type": "code",
   "execution_count": 95,
   "metadata": {},
   "outputs": [],
   "source": [
    "attack.dropna(axis=0, thresh=10, inplace=True)\n",
    "attack.drop_duplicates(inplace=True)\n",
    "attack.dropna(axis=1, thresh=2000, inplace=True)\n"
   ]
  },
  {
   "cell_type": "code",
   "execution_count": 29,
   "metadata": {},
   "outputs": [
    {
     "data": {
      "text/plain": [
       "Index(['Case Number', 'Date', 'Year', 'Type', 'Country', 'Area', 'Location',\n",
       "       'Activity', 'Name', 'Sex ', 'Age', 'Injury', 'Fatal (Y/N)', 'Time',\n",
       "       'Species ', 'Investigator or Source', 'pdf', 'href formula', 'href',\n",
       "       'Case Number.1', 'Case Number.2', 'original order', 'Unnamed: 22',\n",
       "       'Unnamed: 23'],\n",
       "      dtype='object')"
      ]
     },
     "execution_count": 29,
     "metadata": {},
     "output_type": "execute_result"
    }
   ],
   "source": [
    "attack.columns"
   ]
  },
  {
   "cell_type": "code",
   "execution_count": 35,
   "metadata": {},
   "outputs": [
    {
     "data": {
      "text/plain": [
       "6283"
      ]
     },
     "execution_count": 35,
     "metadata": {},
     "output_type": "execute_result"
    }
   ],
   "source": [
    "repeated_values=attack[attack['Case Number.1'].isin(attack['Case Number.2'])]\n",
    "len(repeated_values)"
   ]
  },
  {
   "cell_type": "code",
   "execution_count": 36,
   "metadata": {},
   "outputs": [
    {
     "data": {
      "text/plain": [
       "6242"
      ]
     },
     "execution_count": 36,
     "metadata": {},
     "output_type": "execute_result"
    }
   ],
   "source": [
    "repeated_values2=attack[attack['href formula'].isin(attack['href'])]\n",
    "len(repeated_values2)"
   ]
  },
  {
   "cell_type": "code",
   "execution_count": 32,
   "metadata": {},
   "outputs": [],
   "source": [
    "#attack[\"Sex \"].value_counts(dropna=False)"
   ]
  },
  {
   "cell_type": "code",
   "execution_count": 172,
   "metadata": {},
   "outputs": [
    {
     "data": {
      "text/plain": [
       "Index(['Case Number', 'Date', 'Year', 'Type', 'Country', 'Area', 'Location',\n",
       "       'Activity', 'Name', 'Sex ', 'Age', 'Injury', 'Fatal (Y/N)', 'Time',\n",
       "       'Species ', 'Investigator or Source', 'pdf', 'href formula', 'href',\n",
       "       'Case Number.1', 'Case Number.2', 'original order'],\n",
       "      dtype='object')"
      ]
     },
     "execution_count": 172,
     "metadata": {},
     "output_type": "execute_result"
    }
   ],
   "source": [
    "attack.columns"
   ]
  },
  {
   "cell_type": "code",
   "execution_count": 194,
   "metadata": {},
   "outputs": [],
   "source": [
    "#(attack['Case Number.1']==attack['Case Number.2']).count()\n",
    "def duplicados (x, y):\n",
    "\n",
    "    if x==y:\n",
    "         return 1\n",
    "    else:\n",
    "        return 0\n"
   ]
  },
  {
   "cell_type": "code",
   "execution_count": 232,
   "metadata": {},
   "outputs": [],
   "source": [
    "#attack[\"new\"] = attack.apply(lambda x: duplicados([\"Date\"][x], x[\"Sex \"][x]))"
   ]
  },
  {
   "cell_type": "code",
   "execution_count": 37,
   "metadata": {},
   "outputs": [
    {
     "data": {
      "text/plain": [
       "Index(['Case Number', 'Date', 'Year', 'Type', 'Country', 'Area', 'Location',\n",
       "       'Activity', 'Name', 'Sex ', 'Age', 'Injury', 'Fatal (Y/N)', 'Time',\n",
       "       'Species ', 'Investigator or Source', 'pdf', 'href formula', 'href',\n",
       "       'Case Number.1', 'Case Number.2', 'original order'],\n",
       "      dtype='object')"
      ]
     },
     "execution_count": 37,
     "metadata": {},
     "output_type": "execute_result"
    }
   ],
   "source": [
    "attack.columns"
   ]
  },
  {
   "cell_type": "code",
   "execution_count": 43,
   "metadata": {},
   "outputs": [],
   "source": [
    "attacks=attack.drop(columns=[\"pdf\", \"href\", \"Case Number.1\", \"Case Number.2\", \"href formula\", \"original order\", \"Area\", \"Location\", \"Species \", \"Time\", \"Injury\", \"Activity\", \"Date\", \"Case Number\"])"
   ]
  },
  {
   "cell_type": "code",
   "execution_count": 44,
   "metadata": {},
   "outputs": [
    {
     "data": {
      "text/plain": [
       "(6302, 8)"
      ]
     },
     "execution_count": 44,
     "metadata": {},
     "output_type": "execute_result"
    }
   ],
   "source": [
    "attacks.shape"
   ]
  },
  {
   "cell_type": "code",
   "execution_count": 45,
   "metadata": {},
   "outputs": [
    {
     "data": {
      "text/html": [
       "<div>\n",
       "<style scoped>\n",
       "    .dataframe tbody tr th:only-of-type {\n",
       "        vertical-align: middle;\n",
       "    }\n",
       "\n",
       "    .dataframe tbody tr th {\n",
       "        vertical-align: top;\n",
       "    }\n",
       "\n",
       "    .dataframe thead th {\n",
       "        text-align: right;\n",
       "    }\n",
       "</style>\n",
       "<table border=\"1\" class=\"dataframe\">\n",
       "  <thead>\n",
       "    <tr style=\"text-align: right;\">\n",
       "      <th></th>\n",
       "      <th>Year</th>\n",
       "      <th>Type</th>\n",
       "      <th>Country</th>\n",
       "      <th>Name</th>\n",
       "      <th>Sex</th>\n",
       "      <th>Age</th>\n",
       "      <th>Fatal (Y/N)</th>\n",
       "      <th>Investigator or Source</th>\n",
       "    </tr>\n",
       "  </thead>\n",
       "  <tbody>\n",
       "    <tr>\n",
       "      <th>3829</th>\n",
       "      <td>1962.0</td>\n",
       "      <td>Provoked</td>\n",
       "      <td>NEW ZEALAND</td>\n",
       "      <td>W.T. Luxton</td>\n",
       "      <td>M</td>\n",
       "      <td>NaN</td>\n",
       "      <td>N</td>\n",
       "      <td>Christchurch Star, 3/26/1962</td>\n",
       "    </tr>\n",
       "  </tbody>\n",
       "</table>\n",
       "</div>"
      ],
      "text/plain": [
       "        Year      Type      Country         Name Sex   Age Fatal (Y/N)  \\\n",
       "3829  1962.0  Provoked  NEW ZEALAND  W.T. Luxton    M  NaN           N   \n",
       "\n",
       "            Investigator or Source  \n",
       "3829  Christchurch Star, 3/26/1962  "
      ]
     },
     "execution_count": 45,
     "metadata": {},
     "output_type": "execute_result"
    }
   ],
   "source": [
    "attacks.sample()\n"
   ]
  },
  {
   "cell_type": "code",
   "execution_count": 46,
   "metadata": {},
   "outputs": [
    {
     "data": {
      "text/plain": [
       "N          4293\n",
       "Y          1388\n",
       "NaN         539\n",
       "UNKNOWN      71\n",
       " N            7\n",
       "M             1\n",
       "2017          1\n",
       "N             1\n",
       "y             1\n",
       "Name: Fatal (Y/N), dtype: int64"
      ]
     },
     "execution_count": 46,
     "metadata": {},
     "output_type": "execute_result"
    }
   ],
   "source": [
    "\n",
    "attacks[\"Fatal (Y/N)\"].value_counts(dropna=False)"
   ]
  },
  {
   "cell_type": "code",
   "execution_count": 47,
   "metadata": {},
   "outputs": [
    {
     "data": {
      "text/plain": [
       "N          4294\n",
       "Y          1389\n",
       "UNKNOWN     619\n",
       "Name: Fatal (Y/N), dtype: int64"
      ]
     },
     "execution_count": 47,
     "metadata": {},
     "output_type": "execute_result"
    }
   ],
   "source": [
    "attacks[\"Fatal (Y/N)\"]=attacks[\"Fatal (Y/N)\"].replace({\"y\":\"Y\", \" N\": \"UNKNOWN\", \"M\":\"UNKNOWN\", \"N \":\"N\", \"2017\":\"UNKNOWN\"})\n",
    "attacks[\"Fatal (Y/N)\"]=attacks[\"Fatal (Y/N)\"].fillna(\"UNKNOWN\") \n",
    "attacks[\"Fatal (Y/N)\"].value_counts(dropna=False)"
   ]
  },
  {
   "cell_type": "code",
   "execution_count": 48,
   "metadata": {},
   "outputs": [
    {
     "data": {
      "text/plain": [
       "C. Moore, GSAF                                                    105\n",
       "C. Creswell, GSAF                                                  92\n",
       "S. Petersohn, GSAF                                                 82\n",
       "R. Collier                                                         55\n",
       "T. Peake, GSAF                                                     48\n",
       "                                                                 ... \n",
       "Deseret News, 2/19/1996; European Stars and Stripes, 2/20/1996      1\n",
       "Daily Telegraph, 2/29/1996, p.5; H. Edwards, pp.31-32               1\n",
       "J. Royle, et. al. (1997)                                            1\n",
       "Advertiser, 3/6/1996, p.9; Daily Mail (London), 3/9/1996            1\n",
       "S.W. Baker                                                          1\n",
       "Name: Investigator or Source, Length: 4970, dtype: int64"
      ]
     },
     "execution_count": 48,
     "metadata": {},
     "output_type": "execute_result"
    }
   ],
   "source": [
    "attacks[\"Investigator or Source\"].value_counts(dropna=False)"
   ]
  },
  {
   "cell_type": "code",
   "execution_count": 51,
   "metadata": {},
   "outputs": [
    {
     "name": "stderr",
     "output_type": "stream",
     "text": [
      "C:\\Users\\gqsal\\AppData\\Local\\Temp\\ipykernel_15708\\3381948641.py:1: FutureWarning: The default value of regex will change from True to False in a future version.\n",
      "  attacks['Investigator or Source'] = attacks['Investigator or Source'].str.replace(\", GSAF\", \"\").str.replace(\". GSAF\", \"\").str.replace(\", p.36\", \"\").str.replace(\", FSAF\", \"\")\n"
     ]
    }
   ],
   "source": [
    "attacks['Investigator or Source'] = attacks['Investigator or Source'].str.replace(\", GSAF\", \"\").str.replace(\". GSAF\", \"\").str.replace(\", p.36\", \"\").str.replace(\", FSAF\", \"\")"
   ]
  },
  {
   "cell_type": "code",
   "execution_count": 64,
   "metadata": {},
   "outputs": [
    {
     "data": {
      "text/plain": [
       "['C. Moore',\n",
       " 'R. Collier',\n",
       " 'C. Creswell',\n",
       " 'S. Petersohn',\n",
       " 'T. Peake',\n",
       " 'M. Levine',\n",
       " 'A. Gifford',\n",
       " 'B. Myatt',\n",
       " 'E. Pace',\n",
       " 'M. Vorenberg',\n",
       " 'E. Ritter',\n",
       " 'G. Van Grevelynghe',\n",
       " 'C. Johansson',\n",
       " 'J. Green',\n",
       " 'W. Leander',\n",
       " 'C. Black',\n",
       " 'R.D. Weeks',\n",
       " 'K. Nakaya']"
      ]
     },
     "execution_count": 64,
     "metadata": {},
     "output_type": "execute_result"
    }
   ],
   "source": [
    "value_counts = attacks[\"Investigator or Source\"].value_counts()\n",
    "investigators = value_counts.index.tolist()\n",
    "investigators=investigators [:22]\n",
    "investigators.remove(\"GSAF\")\n",
    "investigators.remove(\"JCOnline\")\n",
    "investigators.remove(\"Hawaii Department of Land and Natural Resources\")\n",
    "investigators.remove(\"MEDSAF\")\n",
    "investigators\n",
    "\n"
   ]
  },
  {
   "cell_type": "code",
   "execution_count": 69,
   "metadata": {},
   "outputs": [
    {
     "name": "stdout",
     "output_type": "stream",
     "text": [
      "98\n"
     ]
    }
   ],
   "source": [
    "vc= attacks1death[\"Investigator or Source\"].value_counts()\n",
    "print(vc['R. Collier'])"
   ]
  },
  {
   "cell_type": "code",
   "execution_count": 57,
   "metadata": {},
   "outputs": [],
   "source": [
    "#HYPOTHESIS 1: THE INVESTIGATOR WITH MORE CASES IS INDEED THE BEST INVESTIGATOR\n",
    "attacks1=attacks"
   ]
  },
  {
   "cell_type": "code",
   "execution_count": 58,
   "metadata": {},
   "outputs": [
    {
     "data": {
      "text/html": [
       "<div>\n",
       "<style scoped>\n",
       "    .dataframe tbody tr th:only-of-type {\n",
       "        vertical-align: middle;\n",
       "    }\n",
       "\n",
       "    .dataframe tbody tr th {\n",
       "        vertical-align: top;\n",
       "    }\n",
       "\n",
       "    .dataframe thead th {\n",
       "        text-align: right;\n",
       "    }\n",
       "</style>\n",
       "<table border=\"1\" class=\"dataframe\">\n",
       "  <thead>\n",
       "    <tr style=\"text-align: right;\">\n",
       "      <th></th>\n",
       "      <th>Year</th>\n",
       "      <th>Type</th>\n",
       "      <th>Country</th>\n",
       "      <th>Name</th>\n",
       "      <th>Sex</th>\n",
       "      <th>Age</th>\n",
       "      <th>Fatal (Y/N)</th>\n",
       "      <th>Investigator or Source</th>\n",
       "    </tr>\n",
       "  </thead>\n",
       "  <tbody>\n",
       "    <tr>\n",
       "      <th>358</th>\n",
       "      <td>2015.0</td>\n",
       "      <td>Unprovoked</td>\n",
       "      <td>USA</td>\n",
       "      <td>Braxton Rocha</td>\n",
       "      <td>M</td>\n",
       "      <td>27</td>\n",
       "      <td>N</td>\n",
       "      <td>Big Island Video, 9/20/2015</td>\n",
       "    </tr>\n",
       "  </tbody>\n",
       "</table>\n",
       "</div>"
      ],
      "text/plain": [
       "       Year        Type Country            Name Sex  Age Fatal (Y/N)  \\\n",
       "358  2015.0  Unprovoked     USA   Braxton Rocha    M  27           N   \n",
       "\n",
       "          Investigator or Source  \n",
       "358  Big Island Video, 9/20/2015  "
      ]
     },
     "execution_count": 58,
     "metadata": {},
     "output_type": "execute_result"
    }
   ],
   "source": [
    "attacks1.sample()"
   ]
  },
  {
   "cell_type": "code",
   "execution_count": 59,
   "metadata": {},
   "outputs": [
    {
     "data": {
      "text/plain": [
       "(743, 8)"
      ]
     },
     "execution_count": 59,
     "metadata": {},
     "output_type": "execute_result"
    }
   ],
   "source": [
    "\n",
    "attacks1 = attacks1[attacks1[\"Investigator or Source\"].isin(investigators)]\n",
    "attacks1.shape\n",
    "\n"
   ]
  },
  {
   "cell_type": "code",
   "execution_count": 60,
   "metadata": {},
   "outputs": [
    {
     "data": {
      "text/plain": [
       "(658, 8)"
      ]
     },
     "execution_count": 60,
     "metadata": {},
     "output_type": "execute_result"
    }
   ],
   "source": [
    "# This is just for knowing the fatality rate\n",
    "attacks1death = attacks1[attacks1[\"Fatal (Y/N)\"] != \"UNKNOWN\"]\n",
    "attacks1death.shape"
   ]
  },
  {
   "cell_type": "code",
   "execution_count": 75,
   "metadata": {},
   "outputs": [
    {
     "data": {
      "image/png": "[encoded data removed]",
      "text/plain": [
       "<Figure size 432x288 with 1 Axes>"
      ]
     },
     "metadata": {
      "needs_background": "light"
     },
     "output_type": "display_data"
    }
   ],
   "source": [
    "grouped = attacks1death.groupby(['Investigator or Source', 'Fatal (Y/N)']).size().reset_index(name='Counts')\n",
    "\n",
    "pivot = grouped.pivot(index='Investigator or Source', columns='Fatal (Y/N)', values='Counts').fillna(0)\n",
    "\n",
    "pivot.plot(kind='bar', stacked=True, color=['blue', 'red'])\n",
    "\n",
    "plt.xlabel('Investigator')\n",
    "plt.ylabel('Cases')\n",
    "plt.title('Total Cases per Investigator')\n",
    "\n",
    "plt.show()\n",
    "\n",
    "\n",
    "\n",
    "\n",
    "\n"
   ]
  },
  {
   "cell_type": "code",
   "execution_count": 70,
   "metadata": {},
   "outputs": [
    {
     "data": {
      "text/plain": [
       "array(['USA', 'AUSTRALIA', 'UNITED KINGDOM', 'SOUTH AFRICA', 'EGYPT',\n",
       "       'SEYCHELLES', 'NEW ZEALAND', 'MALAYSIA', 'AZORES', 'ECUADOR',\n",
       "       'CUBA', 'PHILIPPINES', 'NEW CALEDONIA', 'SCOTLAND', 'BELIZE',\n",
       "       'SPAIN', 'ST. MAARTIN', 'LIBERIA', 'SRI LANKA', 'BAHAMAS',\n",
       "       'CARIBBEAN SEA', 'REUNION', 'MOZAMBIQUE', 'JAPAN', 'ITALY',\n",
       "       'MEXICO', 'PORTUGAL', 'BERMUDA', 'FRANCE', 'GRENADA', 'TURKEY',\n",
       "       'VANUATU', nan, 'ISRAEL', 'GREECE', 'CROATIA', 'TRINIDAD & TOBAGO',\n",
       "       'CAPE VERDE', 'ENGLAND', 'MONTENEGRO', 'GUYANA', 'INDONESIA',\n",
       "       'REUNION ISLAND', 'CRETE', 'SYRIA', 'CHINA', 'TOBAGO', 'ALGERIA',\n",
       "       'NORWAY', 'SWEDEN', 'LEBANON', 'SUDAN'], dtype=object)"
      ]
     },
     "execution_count": 70,
     "metadata": {},
     "output_type": "execute_result"
    }
   ],
   "source": [
    "attacks1[\"Country\"].unique()"
   ]
  },
  {
   "cell_type": "code",
   "execution_count": 71,
   "metadata": {},
   "outputs": [
    {
     "data": {
      "image/png": "[encoded data removed]",
      "text/plain": [
       "<Figure size 432x288 with 1 Axes>"
      ]
     },
     "metadata": {
      "needs_background": "light"
     },
     "output_type": "display_data"
    },
    {
     "ename": "AttributeError",
     "evalue": "module 'matplotlib.pyplot' has no attribute 'getfigure'",
     "output_type": "error",
     "traceback": [
      "\u001b[1;31m---------------------------------------------------------------------------\u001b[0m",
      "\u001b[1;31mAttributeError\u001b[0m                            Traceback (most recent call last)",
      "\u001b[1;32mc:\\Users\\gqsal\\Desktop\\IRONHACK\\Shark-Attack\\Project Attacks.ipynb Cell 29\u001b[0m in \u001b[0;36m<cell line: 12>\u001b[1;34m()\u001b[0m\n\u001b[0;32m      <a href='vscode-notebook-cell:/c%3A/Users/gqsal/Desktop/IRONHACK/Shark-Attack/Project%20Attacks.ipynb#X50sZmlsZQ%3D%3D?line=8'>9</a>\u001b[0m plt\u001b[39m.\u001b[39mtitle(\u001b[39m'\u001b[39m\u001b[39mInvestigator vs Count of Unique Countries\u001b[39m\u001b[39m'\u001b[39m)\n\u001b[0;32m     <a href='vscode-notebook-cell:/c%3A/Users/gqsal/Desktop/IRONHACK/Shark-Attack/Project%20Attacks.ipynb#X50sZmlsZQ%3D%3D?line=10'>11</a>\u001b[0m plt\u001b[39m.\u001b[39mshow()\n\u001b[1;32m---> <a href='vscode-notebook-cell:/c%3A/Users/gqsal/Desktop/IRONHACK/Shark-Attack/Project%20Attacks.ipynb#X50sZmlsZQ%3D%3D?line=11'>12</a>\u001b[0m plt\u001b[39m.\u001b[39;49mgetfigure()\u001b[39m.\u001b[39msavefig(\u001b[39m\"\u001b[39m\u001b[39mShark-Attacks/Investigators by Country.png\u001b[39m\u001b[39m\"\u001b[39m)\n",
      "\u001b[1;31mAttributeError\u001b[0m: module 'matplotlib.pyplot' has no attribute 'getfigure'"
     ]
    }
   ],
   "source": [
    "\n",
    "grouped = attacks1.groupby('Investigator or Source')['Country'].nunique().reset_index(name='Counts')\n",
    "\n",
    "grouped.sort_values(by='Counts', ascending=False, inplace=True)\n",
    "\n",
    "grouped.plot(x='Investigator or Source', y='Counts', kind='bar')\n",
    "\n",
    "plt.xlabel('Investigators')\n",
    "plt.ylabel('Count of Unique Countries')\n",
    "plt.title('Investigator vs Count of Unique Countries')\n",
    "\n",
    "plt.show()\n",
    "plt.getfigure().savefig(\"Shark-Attacks/Investigators by Country.png\")"
   ]
  },
  {
   "cell_type": "code",
   "execution_count": 74,
   "metadata": {},
   "outputs": [
    {
     "data": {
      "image/png": "[encoded data removed]",
      "text/plain": [
       "<Figure size 432x288 with 1 Axes>"
      ]
     },
     "metadata": {},
     "output_type": "display_data"
    }
   ],
   "source": [
    "\n",
    "attacks13 = attacks1[attacks1['Fatal (Y/N)'] == 'Y']\n",
    "\n",
    "group = attacks13.groupby('Investigator or Source').size().reset_index(name='county')\n",
    "\n",
    "group.sort_values(by='county', ascending=False, inplace=True)\n",
    "top_5 = group.head(5)\n",
    "plt.pie(top_5['county'], labels=top_5['Investigator or Source'], autopct='%1.1f%%')\n",
    "plt.title('Top 5 investigators with most Deaths by Sharks investigated')\n",
    "plt.show()\n"
   ]
  },
  {
   "cell_type": "code",
   "execution_count": 86,
   "metadata": {},
   "outputs": [],
   "source": [
    "attacks1time = attacks1[attacks1['Year'] >= 1993]"
   ]
  },
  {
   "cell_type": "code",
   "execution_count": 90,
   "metadata": {},
   "outputs": [
    {
     "data": {
      "image/png": "[encoded data removed]",
      "text/plain": [
       "<Figure size 432x288 with 1 Axes>"
      ]
     },
     "metadata": {
      "needs_background": "light"
     },
     "output_type": "display_data"
    }
   ],
   "source": [
    "year_counts = attacks1time.groupby(['Year', 'Investigator or Source']).size().reset_index(name='Coun')\n",
    "\n",
    "top_investigators = year_counts.groupby('Investigator or Source').sum().sort_values('Coun', ascending=False).head(4).index\n",
    "sns.lineplot(x='Year', y='Coun', hue='Investigator or Source', data=year_counts[year_counts['Investigator or Source'].isin(top_investigators)])\n",
    "\n",
    "plt.show()"
   ]
  },
  {
   "cell_type": "code",
   "execution_count": 91,
   "metadata": {},
   "outputs": [
    {
     "data": {
      "text/plain": [
       "M      573\n",
       "F       90\n",
       "NaN     80\n",
       "Name: Sex , dtype: int64"
      ]
     },
     "execution_count": 91,
     "metadata": {},
     "output_type": "execute_result"
    }
   ],
   "source": [
    "attacks1[\"Sex \"].value_counts(dropna=False)"
   ]
  },
  {
   "cell_type": "code",
   "execution_count": 94,
   "metadata": {},
   "outputs": [],
   "source": [
    "#active= attacks1.groupby(\"Investigator or Source\")[\"Year\"].agg(['min', 'max']).to_dict('index')\n",
    "#active"
   ]
  },
  {
   "cell_type": "code",
   "execution_count": 99,
   "metadata": {},
   "outputs": [],
   "source": [
    "films = {}\n",
    "\n",
    "films[\"Jaws\"] = 1975\n",
    "films[\"Deep Blue Sea\"] = 1999\n",
    "films[\"Open Water\"] = 2003\n",
    "films[\"Shark Tale\"] = 2004\n",
    "films[\"Shark Night/Soul Surfer\"] = 2011\n",
    "films[\"47 Meters Down\"] = 2017\n",
    "films[\"The Meg\"] = 2018\n",
    "films[\"Sharknado/The Shallows\"] = 2013\n",
    "\n",
    "film_years = list(films.values())\n",
    "counting = [sum(attacks['Year'] == year) for year in film_years]"
   ]
  },
  {
   "cell_type": "code",
   "execution_count": 100,
   "metadata": {},
   "outputs": [
    {
     "data": {
      "image/png": "[encoded data removed]",
      "text/plain": [
       "<Figure size 1224x432 with 1 Axes>"
      ]
     },
     "metadata": {
      "needs_background": "light"
     },
     "output_type": "display_data"
    }
   ],
   "source": [
    "plt.figure(figsize=(17, 6))\n",
    "plt.bar(list(films.keys()), counting)\n",
    "plt.xlabel('Film')\n",
    "plt.ylabel('Number of Attacks')\n",
    "plt.title('Number of Attacks in Film Release Year')\n",
    "plt.show()"
   ]
  },
  {
   "cell_type": "code",
   "execution_count": 101,
   "metadata": {},
   "outputs": [],
   "source": [
    "attacksfilms=attacks[attacks['Year'] >= 1975]"
   ]
  },
  {
   "cell_type": "code",
   "execution_count": 102,
   "metadata": {},
   "outputs": [
    {
     "data": {
      "image/png": "[encoded data removed]",
      "text/plain": [
       "<Figure size 432x288 with 1 Axes>"
      ]
     },
     "metadata": {},
     "output_type": "display_data"
    }
   ],
   "source": [
    "in_films = sum(attacksfilms['Year'].isin(film_years))\n",
    "not_in_films = len(attacksfilms) - in_films\n",
    "\n",
    "labels = ['Attack in film years', 'Attack not in film years']\n",
    "sizes = [in_films, not_in_films]\n",
    "\n",
    "fig1, ax1 = plt.subplots()\n",
    "ax1.pie(sizes, labels=labels, autopct='%1.1f%%',\n",
    "        shadow=True, startangle=90)\n",
    "plt.show()"
   ]
  },
  {
   "cell_type": "code",
   "execution_count": 103,
   "metadata": {},
   "outputs": [
    {
     "data": {
      "text/plain": [
       "92.25"
      ]
     },
     "execution_count": 103,
     "metadata": {},
     "output_type": "execute_result"
    }
   ],
   "source": [
    "in_filmsper=in_films/len(film_years)\n",
    "in_filmsper"
   ]
  },
  {
   "cell_type": "code",
   "execution_count": 109,
   "metadata": {},
   "outputs": [
    {
     "data": {
      "text/plain": [
       "71.63"
      ]
     },
     "execution_count": 109,
     "metadata": {},
     "output_type": "execute_result"
    }
   ],
   "source": [
    "not_in_filmsper=not_in_films/(attacksfilms[\"Year\"].max()-1975-len(film_years))\n",
    "round(not_in_filmsper,2)"
   ]
  },
  {
   "cell_type": "code",
   "execution_count": 118,
   "metadata": {},
   "outputs": [
    {
     "data": {
      "image/png": "[encoded data removed]",
      "text/plain": [
       "<Figure size 432x288 with 1 Axes>"
      ]
     },
     "metadata": {},
     "output_type": "display_data"
    }
   ],
   "source": [
    "labels = ['Attacks while shark films per year = 90,25', 'Attacks while not shark films per year = 71.63']\n",
    "sizes = [in_filmsper, not_in_filmsper]\n",
    "fig2, ax2 = plt.subplots()\n",
    "ax2.pie(sizes, labels=labels,\n",
    "        shadow=True, startangle=45)\n",
    "plt.show()"
   ]
  },
  {
   "cell_type": "code",
   "execution_count": 119,
   "metadata": {},
   "outputs": [
    {
     "data": {
      "text/plain": [
       "J    616\n",
       "M    446\n",
       "A    371\n",
       "R    354\n",
       "C    321\n",
       "D    288\n",
       "S    269\n",
       "B    229\n",
       "T    209\n",
       "G    204\n",
       "K    187\n",
       "L    182\n",
       "P    169\n",
       "W    158\n",
       "E    155\n",
       "H    131\n",
       "N    125\n",
       "F    112\n",
       "I     50\n",
       "O     46\n",
       "V     40\n",
       "Z     24\n",
       "Y     19\n",
       "U     10\n",
       "Q      5\n",
       "Name: Name, dtype: int64"
      ]
     },
     "execution_count": 119,
     "metadata": {},
     "output_type": "execute_result"
    }
   ],
   "source": [
    "attacksname=attacks.copy()\n",
    "attacksname.dropna(subset=[\"Name\"], inplace=True)\n",
    "attacksname = attacksname[attacksname['Name'].str.match('^[A-Z]')]\n",
    "attacksname = attacksname[~attacksname['Name'].isin(['Arab boy', 'Unknown', 'Russian male', 'Japanese diver', 'Zulu male', 'Anonymous', 'Unidentified', 'Indian male', 'Coast Guard personnel', 'M.C.'])]\n",
    "\n",
    "attacksname['Name'] = attacksname['Name'].str.get(0)\n",
    "attacksname[\"Name\"].value_counts(dropna=False)"
   ]
  },
  {
   "cell_type": "code",
   "execution_count": 120,
   "metadata": {},
   "outputs": [
    {
     "data": {
      "text/plain": [
       "J    562\n",
       "M    401\n",
       "A    342\n",
       "R    325\n",
       "C    294\n",
       "D    265\n",
       "S    247\n",
       "B    215\n",
       "T    196\n",
       "G    182\n",
       "K    171\n",
       "L    169\n",
       "P    154\n",
       "W    146\n",
       "E    136\n",
       "H    119\n",
       "N    111\n",
       "F    102\n",
       "I     45\n",
       "O     44\n",
       "V     34\n",
       "Z     22\n",
       "Y     17\n",
       "U     10\n",
       "Q      5\n",
       "Name: Name, dtype: int64"
      ]
     },
     "execution_count": 120,
     "metadata": {},
     "output_type": "execute_result"
    }
   ],
   "source": [
    "attacksname1=attacksname \n",
    "attacksname1 = attacksname1[attacksname1[\"Fatal (Y/N)\"] != \"UNKNOWN\"]\n",
    "attacksname1[\"Name\"].value_counts(dropna=False)"
   ]
  },
  {
   "cell_type": "code",
   "execution_count": 121,
   "metadata": {},
   "outputs": [
    {
     "data": {
      "text/plain": [
       "<AxesSubplot: xlabel='Name', ylabel='count'>"
      ]
     },
     "execution_count": 121,
     "metadata": {},
     "output_type": "execute_result"
    },
    {
     "data": {
      "image/png": "[encoded data removed]",
      "text/plain": [
       "<Figure size 432x288 with 1 Axes>"
      ]
     },
     "metadata": {
      "needs_background": "light"
     },
     "output_type": "display_data"
    }
   ],
   "source": [
    "sns.countplot(x='Name', data=attacksname)"
   ]
  },
  {
   "cell_type": "code",
   "execution_count": 122,
   "metadata": {},
   "outputs": [
    {
     "name": "stderr",
     "output_type": "stream",
     "text": [
      "C:\\Users\\gqsal\\AppData\\Local\\Temp\\ipykernel_15708\\413774630.py:1: SettingWithCopyWarning: \n",
      "A value is trying to be set on a copy of a slice from a DataFrame.\n",
      "Try using .loc[row_indexer,col_indexer] = value instead\n",
      "\n",
      "See the caveats in the documentation: https://pandas.pydata.org/pandas-docs/stable/user_guide/indexing.html#returning-a-view-versus-a-copy\n",
      "  attacksname1[\"Death\"]=attacksname1[\"Fatal (Y/N)\"].apply(lambda x: 1 if x==\"Y\" else 0)\n"
     ]
    },
    {
     "data": {
      "text/plain": [
       "0    3385\n",
       "1     929\n",
       "Name: Death, dtype: int64"
      ]
     },
     "execution_count": 122,
     "metadata": {},
     "output_type": "execute_result"
    }
   ],
   "source": [
    "attacksname1[\"Death\"]=attacksname1[\"Fatal (Y/N)\"].apply(lambda x: 1 if x==\"Y\" else 0)\n",
    "attacksname1[\"Death\"].value_counts()"
   ]
  },
  {
   "cell_type": "code",
   "execution_count": 123,
   "metadata": {},
   "outputs": [
    {
     "data": {
      "text/plain": [
       "<AxesSubplot: xlabel='Name', ylabel='count'>"
      ]
     },
     "execution_count": 123,
     "metadata": {},
     "output_type": "execute_result"
    },
    {
     "data": {
      "image/png": "[encoded data removed]",
      "text/plain": [
       "<Figure size 432x288 with 1 Axes>"
      ]
     },
     "metadata": {
      "needs_background": "light"
     },
     "output_type": "display_data"
    }
   ],
   "source": [
    "sns.countplot(x='Name', data=attacksname1, hue='Fatal (Y/N)')"
   ]
  },
  {
   "cell_type": "code",
   "execution_count": 124,
   "metadata": {},
   "outputs": [
    {
     "data": {
      "image/png": "[encoded data removed]",
      "text/plain": [
       "<Figure size 432x288 with 1 Axes>"
      ]
     },
     "metadata": {
      "needs_background": "light"
     },
     "output_type": "display_data"
    }
   ],
   "source": [
    "name_counts = attacksname1[attacksname1[\"Death\"] == 1].groupby(\"Name\").count()\n",
    "name_percentages = 100 * name_counts[\"Death\"] / attacksname1[\"Name\"].value_counts()\n",
    "sorted_percentages = name_percentages.sort_values(ascending=False)\n",
    "sorted_percentages[:10].plot(kind='bar')\n",
    "plt.xlabel(\"First Letter\")\n",
    "plt.ylabel(\"Percentage of Deaths (%)\")\n",
    "plt.title(\"Top 10 First Letters with the Highest Percentage of Deaths\")\n",
    "plt.show()"
   ]
  }
 ],
 "metadata": {
  "kernelspec": {
   "display_name": "ironhack",
   "language": "python",
   "name": "python3"
  },
  "language_info": {
   "codemirror_mode": {
    "name": "ipython",
    "version": 3
   },
   "file_extension": ".py",
   "mimetype": "text/x-python",
   "name": "python",
   "nbconvert_exporter": "python",
   "pygments_lexer": "ipython3",
   "version": "3.10.4"
  },
  "orig_nbformat": 4,
  "vscode": {
   "interpreter": {
    "hash": "827cb459ef7dfa823b7fba71272161b29eeaf9e5af81f5ec193dda0aa6af3e3d"
   }
  }
 },
 "nbformat": 4,
 "nbformat_minor": 2
}
